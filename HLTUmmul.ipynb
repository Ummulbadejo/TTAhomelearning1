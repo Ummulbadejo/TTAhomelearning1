{
 "cells": [
  {
   "cell_type": "code",
   "execution_count": 2,
   "metadata": {},
   "outputs": [],
   "source": [
    "#Task1 Homelearning\n",
    "import random\n",
    "myName = input(\"Hello!What is your name?\")\n",
    "number = random.randint(1,10)\n",
    "print(\"Well,\"+ myName + \"I am thinking of a number between 1 and 10\")\n",
    "guess = int(input(\"Take a guess:\"))\n",
    "\n",
    "if guess == number:\n",
    "    print(\"Good job,\"  + myName + \"! You guessed my number\")\n",
    "else:\n",
    "    print(\"Wrong,better luck next time\")\n",
    "    \n"
   ]
  },
  {
   "cell_type": "code",
   "execution_count": 1,
   "metadata": {},
   "outputs": [],
   "source": [
    "#Homelearning Task3\n",
    "#A program that allows user to enter their favourite starter,maincourse,dessert and drink.\n",
    "Fstarter = input(\"what is your favourite starter?:\")\n",
    "Mcourse =  input(\"What is  your mnaincourse?:\")\n",
    "Dessert =  input(\"What dessert  do you want?:\")\n",
    "Drink = input(\"What drink wwould you like?:\")\n",
    "\n",
    "print(\"Your Favourite meal is:\" ,  Mcourse + \"with a glass of:\" , Drink)\n",
    "\n",
    "\n"
   ]
  },
  {
   "cell_type": "code",
   "execution_count": null,
   "metadata": {},
   "outputs": [],
   "source": [
    "#Homelearning Task5\n",
    "#Write a program wwhich will ask for two number from a user.\n",
    "#Then offer  a menu to the user giving them a choice of operator.\n",
    "x = int(input(\"Enter first number:\"))\n",
    "y = int(input(\"Enter second number\"))\n",
    "\n",
    "op =  input(\"Enter an operator(+,-,/,*,**):\")\n",
    "result  = 0\n",
    "\n",
    "if  op == '+':\n",
    "    result = x+y\n",
    "\n",
    "elif op  == '-':\n",
    "    result = x-y\n",
    "\n",
    "elif op == '/':\n",
    "    result =  x/y\n",
    "\n",
    "elif op ==  '*':\n",
    "    result = x*y\n",
    "\n",
    "elif op ==  '**':\n",
    "    result = x**y\n",
    "\n",
    "print(x,op,y, \"=\" ,result)\n",
    "\n",
    "\n",
    "\n"
   ]
  },
  {
   "cell_type": "code",
   "execution_count": null,
   "metadata": {},
   "outputs": [],
   "source": [
    "#Homelearning Task2\n",
    "#Write a program that asks a user  for their favourite number between 1 and 100.\n",
    "#Then tell them a joke based on the number.\n",
    "import random\n",
    "number=random.randint(1,100)\n",
    "Fnum=int(input(\"Enter your Favourite number:\"))\n",
    "if Fnum ==5:\n",
    "    print(\"What do you call a cheese that's not yours?Nacho cheese!\")\n",
    "\n",
    "import random\n",
    "number=random.randint(1,100)\n",
    "F_num=int(input(\"Enter your Favourite number:\"))\n",
    "if F_num ==33:\n",
    "    print(\"What's orange  and sounds like a parrot?Carrot!\")\n",
    "\n",
    "import random\n",
    "number=random.randint(1,100)\n",
    "FNum=int(input(\"Enter Favourite number:\"))\n",
    "if FNum ==90:\n",
    "    print(\"What did Mr and  Mrs Hamburger name their child?Patty!\")\n",
    "    \n",
    "\n"
   ]
  }
 ],
 "metadata": {
  "interpreter": {
   "hash": "7e1998ff7f8aa20ada591c520b972326324e5ea05489af9e422744c7c09f6dad"
  },
  "kernelspec": {
   "display_name": "Python 3.10.0 64-bit",
   "name": "python3"
  },
  "language_info": {
   "codemirror_mode": {
    "name": "ipython",
    "version": 3
   },
   "file_extension": ".py",
   "mimetype": "text/x-python",
   "name": "python",
   "nbconvert_exporter": "python",
   "pygments_lexer": "ipython3",
   "version": "3.10.0"
  },
  "orig_nbformat": 4
 },
 "nbformat": 4,
 "nbformat_minor": 2
}
