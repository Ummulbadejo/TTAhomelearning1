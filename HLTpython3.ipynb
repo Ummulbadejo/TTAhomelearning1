{
 "cells": [
  {
   "cell_type": "code",
   "execution_count": 1,
   "metadata": {},
   "outputs": [
    {
     "name": "stdout",
     "output_type": "stream",
     "text": [
      "Collecting numpy\n",
      "  Downloading numpy-1.21.4-cp310-cp310-macosx_10_9_x86_64.whl (17.0 MB)\n",
      "\u001b[K     |████████████████████████████████| 17.0 MB 1.6 MB/s \n",
      "\u001b[?25hInstalling collected packages: numpy\n",
      "Successfully installed numpy-1.21.4\n",
      "\u001b[33mWARNING: You are using pip version 21.2.3; however, version 21.3.1 is available.\n",
      "You should consider upgrading via the '/usr/local/bin/python3 -m pip install --upgrade pip' command.\u001b[0m\n",
      "Note: you may need to restart the kernel to use updated packages.\n"
     ]
    }
   ],
   "source": [
    "#pip install  numpy"
   ]
  },
  {
   "cell_type": "code",
   "execution_count": 2,
   "metadata": {},
   "outputs": [],
   "source": [
    "import numpy as np"
   ]
  },
  {
   "cell_type": "code",
   "execution_count": 3,
   "metadata": {},
   "outputs": [
    {
     "name": "stdout",
     "output_type": "stream",
     "text": [
      "[1 2 3 4 5 6 7 8 9]\n"
     ]
    }
   ],
   "source": [
    "#Creaate a 1D array of numbers from  0 to 9\n",
    "array1 = np.array([1,2,3,4,5,6,7,8,9])\n",
    "print(array1)"
   ]
  },
  {
   "cell_type": "code",
   "execution_count": 4,
   "metadata": {},
   "outputs": [
    {
     "name": "stdout",
     "output_type": "stream",
     "text": [
      "[0 1 2 3 4 5 6 7 8]\n"
     ]
    }
   ],
   "source": [
    "#Create a  1D array of numbers from 0 to 9\n",
    "#using np.arange\n",
    "arr = np.arange(0,9)\n",
    "print(arr)"
   ]
  },
  {
   "cell_type": "code",
   "execution_count": 8,
   "metadata": {},
   "outputs": [
    {
     "name": "stdout",
     "output_type": "stream",
     "text": [
      "[[ True  True  True]\n",
      " [ True  True  True]\n",
      " [ True  True  True]]\n"
     ]
    }
   ],
   "source": [
    "#Create a 3*3 Numpy array of all Boolean value Trues\n",
    "arr3=[[4,5,6],[7,8,9],[10,11,12]]\n",
    "arra=np.array(arr3)\n",
    "y= arra > 3\n",
    "print(y)"
   ]
  },
  {
   "cell_type": "code",
   "execution_count": 18,
   "metadata": {},
   "outputs": [
    {
     "name": "stdout",
     "output_type": "stream",
     "text": [
      "[1 2 3 4 5 6 7 8 9]\n"
     ]
    },
    {
     "data": {
      "text/plain": [
       "array([1, 3, 5, 7, 9])"
      ]
     },
     "execution_count": 18,
     "metadata": {},
     "output_type": "execute_result"
    }
   ],
   "source": [
    "#Extract all odd numbers from array of 1-10\n",
    "#Using   np.arange\n",
    "arr2=np.arange(1,10)\n",
    "print(arr2)\n",
    "\n",
    "arr2[::2]\n"
   ]
  },
  {
   "cell_type": "code",
   "execution_count": 19,
   "metadata": {},
   "outputs": [
    {
     "name": "stdout",
     "output_type": "stream",
     "text": [
      "[-1  2 -1  4 -1  6 -1  8 -1]\n"
     ]
    }
   ],
   "source": [
    "#Replace all odd numbers in an array of 1-10 with value -1\n",
    "#Using np.arange\n",
    "arr4=np.arange(1,10)\n",
    "arr4[::2]= -1\n",
    "print(arr4)"
   ]
  },
  {
   "cell_type": "code",
   "execution_count": 20,
   "metadata": {},
   "outputs": [
    {
     "name": "stdout",
     "output_type": "stream",
     "text": [
      "[[ 2  4  6  8]\n",
      " [10 12 14 16]]\n"
     ]
    }
   ],
   "source": [
    "#Convert a 1D  array to a 2D array with 2 rows\n",
    "arr1 = np.array([2,4,6,8,10,12,14,16])\n",
    "newarr1 = arr1.reshape(2,4)\n",
    "print(newarr1)"
   ]
  },
  {
   "cell_type": "code",
   "execution_count": 23,
   "metadata": {},
   "outputs": [
    {
     "name": "stdout",
     "output_type": "stream",
     "text": [
      "[[ 4  5  6]\n",
      " [ 8 10 12]]\n",
      "154\n",
      "154\n"
     ]
    }
   ],
   "source": [
    "#Create two arrays a and b\n",
    "#stack these two arrays vertically\n",
    "#using the np.dot and np.sum to calculate totals\n",
    "a=np.array([4,5,6])\n",
    "b=np.array([8,10,12])\n",
    "arry1=np.vstack((a,b))\n",
    "print(arry1)\n",
    "\n",
    "\n",
    "c=np.dot(a,b)\n",
    "print(c)\n",
    "\n",
    "totalsum=np.sum(c)\n",
    "print(totalsum)"
   ]
  },
  {
   "cell_type": "code",
   "execution_count": 24,
   "metadata": {},
   "outputs": [],
   "source": [
    "\n",
    "my_file=open(\"Numbers\",\"w\")\n",
    "my_file.close()"
   ]
  },
  {
   "cell_type": "code",
   "execution_count": 39,
   "metadata": {},
   "outputs": [],
   "source": [
    "#creating a file name Numbers\n",
    "\n",
    "my_file=open(\"Numbers.txt\", \"w\")\n",
    "my_file.close()\n"
   ]
  },
  {
   "cell_type": "code",
   "execution_count": 42,
   "metadata": {},
   "outputs": [],
   "source": [
    "#Write a program  that allows you to enter 4 numbers and stores them in a file called Numbers\n",
    "#Writing \"w\"\n",
    "n1=(3)\n",
    "n2=(45)\n",
    "n3=(83)\n",
    "n4=(21)\n",
    "\n",
    "my_file = open(\"Numbers.txt\",\"w\")\n",
    "my_file.write(str(n1)+ \"\\n\")\n",
    "my_file.write(str(n2)+  \"\\n\")\n",
    "my_file.write(str(n3)+ \"\\n\")\n",
    "my_file.write(str(n4)+ \"\\n\")\n",
    "\n",
    "my_file.close()\n"
   ]
  },
  {
   "cell_type": "code",
   "execution_count": 43,
   "metadata": {},
   "outputs": [],
   "source": [
    "#Appending \"a\"\n",
    "\n",
    "my_file = open(\"Numbers.txt\",\"a\")\n",
    "\n",
    "my_file.write(\"I love python  coding.\\n\")\n",
    "\n",
    "my_file.close()"
   ]
  },
  {
   "cell_type": "code",
   "execution_count": 44,
   "metadata": {},
   "outputs": [
    {
     "name": "stdout",
     "output_type": "stream",
     "text": [
      "3,45,83,21,I love python  coding.,\n"
     ]
    }
   ],
   "source": [
    "#Reading \"r\"\n",
    "with open(\"Numbers.txt\",\"r\")  as myfile:\n",
    "    Da1 = myfile.read().replace('\\n',',')\n",
    "\n",
    "myfile.close()\n",
    "\n",
    "print(Da1)\n",
    "\n"
   ]
  }
 ],
 "metadata": {
  "interpreter": {
   "hash": "aee8b7b246df8f9039afb4144a1f6fd8d2ca17a180786b69acc140d282b71a49"
  },
  "kernelspec": {
   "display_name": "Python 3.10.0 64-bit",
   "name": "python3"
  },
  "language_info": {
   "codemirror_mode": {
    "name": "ipython",
    "version": 3
   },
   "file_extension": ".py",
   "mimetype": "text/x-python",
   "name": "python",
   "nbconvert_exporter": "python",
   "pygments_lexer": "ipython3",
   "version": "3.10.0"
  },
  "orig_nbformat": 4
 },
 "nbformat": 4,
 "nbformat_minor": 2
}
