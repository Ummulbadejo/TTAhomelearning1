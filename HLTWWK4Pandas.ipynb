{
 "cells": [
  {
   "cell_type": "code",
   "execution_count": 1,
   "metadata": {},
   "outputs": [
    {
     "name": "stdout",
     "output_type": "stream",
     "text": [
      "Collecting pandas\n",
      "  Downloading pandas-1.3.4-cp310-cp310-macosx_10_9_universal2.whl (17.7 MB)\n",
      "\u001b[K     |████████████████████████████████| 17.7 MB 4.0 MB/s \n",
      "\u001b[?25hRequirement already satisfied: python-dateutil>=2.7.3 in /Library/Frameworks/Python.framework/Versions/3.10/lib/python3.10/site-packages (from pandas) (2.8.2)\n",
      "Collecting pytz>=2017.3\n",
      "  Downloading pytz-2021.3-py2.py3-none-any.whl (503 kB)\n",
      "\u001b[K     |████████████████████████████████| 503 kB 2.9 MB/s \n",
      "\u001b[?25hRequirement already satisfied: numpy>=1.21.0 in /Library/Frameworks/Python.framework/Versions/3.10/lib/python3.10/site-packages (from pandas) (1.21.4)\n",
      "Requirement already satisfied: six>=1.5 in /Library/Frameworks/Python.framework/Versions/3.10/lib/python3.10/site-packages (from python-dateutil>=2.7.3->pandas) (1.16.0)\n",
      "Installing collected packages: pytz, pandas\n",
      "Successfully installed pandas-1.3.4 pytz-2021.3\n",
      "\u001b[33mWARNING: You are using pip version 21.2.3; however, version 21.3.1 is available.\n",
      "You should consider upgrading via the '/usr/local/bin/python3 -m pip install --upgrade pip' command.\u001b[0m\n",
      "Note: you may need to restart the kernel to use updated packages.\n"
     ]
    }
   ],
   "source": [
    "#pip install pandas"
   ]
  },
  {
   "cell_type": "code",
   "execution_count": 2,
   "metadata": {},
   "outputs": [],
   "source": [
    "##Import Pandas\n",
    "import pandas as pd"
   ]
  },
  {
   "cell_type": "code",
   "execution_count": 3,
   "metadata": {},
   "outputs": [
    {
     "name": "stdout",
     "output_type": "stream",
     "text": [
      "                 Unnamed: 0                 Unnamed: 1   Unnamed: 2  \\\n",
      "0                       NaN                        NaN          NaN   \n",
      "1              Destinations  FeedBack Score(Out of 10)  Star Rating   \n",
      "2       Antalya City,Turkey                          9    _________   \n",
      "3                 JBR,Dubai                          7      _______   \n",
      "4             Dakar,Senegal                          5        _____   \n",
      "5       Balaclava,Mauritius                         10   __________   \n",
      "6            Kaafu,Maldives                         10   __________   \n",
      "7     Kuala Lumpur,Malaysia                          8     ________   \n",
      "8           Istanbul,Turkey                          5        _____   \n",
      "9              Belek,Turkey                          6       ______   \n",
      "10          Cocoon,Maldives                         10   __________   \n",
      "11              Ibiza,Spain                          8     ________   \n",
      "12            Bodrum,Turkey                          8     ________   \n",
      "13          Downtown, Dubai                         10   __________   \n",
      "14           Mallorca,Spain                          6       ______   \n",
      "15     Canary islands,spain                          8     ________   \n",
      "16  Anse Chastanet,St Lucia                          9    _________   \n",
      "\n",
      "              Unnamed: 3                Unnamed: 4  Unnamed: 5  \\\n",
      "0                    NaN                       NaN         NaN   \n",
      "1   All inclusive Hotels  Most Visited Destination         NaN   \n",
      "2                     25                        80         NaN   \n",
      "3                     20                        76         NaN   \n",
      "4                     10                        20         NaN   \n",
      "5                     30                        36         NaN   \n",
      "6                     20                        20         NaN   \n",
      "7                     15                        20         NaN   \n",
      "8                     22                        65         NaN   \n",
      "9                     30                        75         NaN   \n",
      "10                    25                        38         NaN   \n",
      "11                    15                        90         NaN   \n",
      "12                    35                        80         NaN   \n",
      "13                    28                        75         NaN   \n",
      "14                    14                        95         NaN   \n",
      "15                    18                        60         NaN   \n",
      "16                    10                        25         NaN   \n",
      "\n",
      "    15 Holiday Destinations  \n",
      "0                       NaN  \n",
      "1                       NaN  \n",
      "2                       NaN  \n",
      "3                       NaN  \n",
      "4                       NaN  \n",
      "5                       NaN  \n",
      "6                       NaN  \n",
      "7                       NaN  \n",
      "8                       NaN  \n",
      "9                       NaN  \n",
      "10                      NaN  \n",
      "11                      NaN  \n",
      "12                      NaN  \n",
      "13                      NaN  \n",
      "14                      NaN  \n",
      "15                      NaN  \n",
      "16                      NaN  \n"
     ]
    }
   ],
   "source": [
    "##Reading the CSV file using pd.read_csv\n",
    "HDestinations = pd.read_csv(\"HolidayDestinations.csv\")\n",
    "print(HDestinations)"
   ]
  },
  {
   "cell_type": "code",
   "execution_count": 8,
   "metadata": {},
   "outputs": [
    {
     "data": {
      "text/plain": [
       "(17, 7)"
      ]
     },
     "execution_count": 8,
     "metadata": {},
     "output_type": "execute_result"
    }
   ],
   "source": [
    "## Showing how many rows and columns are there in HDestinations file\n",
    "##Task1\n",
    "import pandas as pd\n",
    "df = pd.DataFrame(HDestinations)\n",
    "df.shape"
   ]
  },
  {
   "cell_type": "code",
   "execution_count": 9,
   "metadata": {},
   "outputs": [
    {
     "name": "stdout",
     "output_type": "stream",
     "text": [
      "17\n"
     ]
    }
   ],
   "source": [
    "##Number of rows\n",
    "nrows =df.shape[0]\n",
    "print(nrows)"
   ]
  },
  {
   "cell_type": "code",
   "execution_count": 10,
   "metadata": {},
   "outputs": [
    {
     "name": "stdout",
     "output_type": "stream",
     "text": [
      "7\n"
     ]
    }
   ],
   "source": [
    "##Number of columns\n",
    "ncolumns =df.shape[1]\n",
    "print(ncolumns)"
   ]
  },
  {
   "cell_type": "code",
   "execution_count": 11,
   "metadata": {},
   "outputs": [
    {
     "data": {
      "text/html": [
       "<div>\n",
       "<style scoped>\n",
       "    .dataframe tbody tr th:only-of-type {\n",
       "        vertical-align: middle;\n",
       "    }\n",
       "\n",
       "    .dataframe tbody tr th {\n",
       "        vertical-align: top;\n",
       "    }\n",
       "\n",
       "    .dataframe thead th {\n",
       "        text-align: right;\n",
       "    }\n",
       "</style>\n",
       "<table border=\"1\" class=\"dataframe\">\n",
       "  <thead>\n",
       "    <tr style=\"text-align: right;\">\n",
       "      <th></th>\n",
       "      <th>Unnamed: 0</th>\n",
       "      <th>Unnamed: 1</th>\n",
       "      <th>Unnamed: 2</th>\n",
       "      <th>Unnamed: 3</th>\n",
       "      <th>Unnamed: 4</th>\n",
       "      <th>Unnamed: 5</th>\n",
       "      <th>15 Holiday Destinations</th>\n",
       "    </tr>\n",
       "  </thead>\n",
       "  <tbody>\n",
       "    <tr>\n",
       "      <th>3</th>\n",
       "      <td>JBR,Dubai</td>\n",
       "      <td>7</td>\n",
       "      <td>_______</td>\n",
       "      <td>20</td>\n",
       "      <td>76</td>\n",
       "      <td>NaN</td>\n",
       "      <td>NaN</td>\n",
       "    </tr>\n",
       "    <tr>\n",
       "      <th>4</th>\n",
       "      <td>Dakar,Senegal</td>\n",
       "      <td>5</td>\n",
       "      <td>_____</td>\n",
       "      <td>10</td>\n",
       "      <td>20</td>\n",
       "      <td>NaN</td>\n",
       "      <td>NaN</td>\n",
       "    </tr>\n",
       "    <tr>\n",
       "      <th>5</th>\n",
       "      <td>Balaclava,Mauritius</td>\n",
       "      <td>10</td>\n",
       "      <td>__________</td>\n",
       "      <td>30</td>\n",
       "      <td>36</td>\n",
       "      <td>NaN</td>\n",
       "      <td>NaN</td>\n",
       "    </tr>\n",
       "    <tr>\n",
       "      <th>6</th>\n",
       "      <td>Kaafu,Maldives</td>\n",
       "      <td>10</td>\n",
       "      <td>__________</td>\n",
       "      <td>20</td>\n",
       "      <td>20</td>\n",
       "      <td>NaN</td>\n",
       "      <td>NaN</td>\n",
       "    </tr>\n",
       "    <tr>\n",
       "      <th>7</th>\n",
       "      <td>Kuala Lumpur,Malaysia</td>\n",
       "      <td>8</td>\n",
       "      <td>________</td>\n",
       "      <td>15</td>\n",
       "      <td>20</td>\n",
       "      <td>NaN</td>\n",
       "      <td>NaN</td>\n",
       "    </tr>\n",
       "  </tbody>\n",
       "</table>\n",
       "</div>"
      ],
      "text/plain": [
       "              Unnamed: 0 Unnamed: 1  Unnamed: 2 Unnamed: 3 Unnamed: 4  \\\n",
       "3              JBR,Dubai          7     _______         20         76   \n",
       "4          Dakar,Senegal          5       _____         10         20   \n",
       "5    Balaclava,Mauritius         10  __________         30         36   \n",
       "6         Kaafu,Maldives         10  __________         20         20   \n",
       "7  Kuala Lumpur,Malaysia          8    ________         15         20   \n",
       "\n",
       "   Unnamed: 5  15 Holiday Destinations  \n",
       "3         NaN                      NaN  \n",
       "4         NaN                      NaN  \n",
       "5         NaN                      NaN  \n",
       "6         NaN                      NaN  \n",
       "7         NaN                      NaN  "
      ]
     },
     "execution_count": 11,
     "metadata": {},
     "output_type": "execute_result"
    }
   ],
   "source": [
    "##Printing row 3-8 using Iloc\n",
    "##Task2\n",
    "df.iloc[3:8]"
   ]
  },
  {
   "cell_type": "code",
   "execution_count": 4,
   "metadata": {},
   "outputs": [
    {
     "data": {
      "text/html": [
       "<div>\n",
       "<style scoped>\n",
       "    .dataframe tbody tr th:only-of-type {\n",
       "        vertical-align: middle;\n",
       "    }\n",
       "\n",
       "    .dataframe tbody tr th {\n",
       "        vertical-align: top;\n",
       "    }\n",
       "\n",
       "    .dataframe thead th {\n",
       "        text-align: right;\n",
       "    }\n",
       "</style>\n",
       "<table border=\"1\" class=\"dataframe\">\n",
       "  <thead>\n",
       "    <tr style=\"text-align: right;\">\n",
       "      <th></th>\n",
       "      <th>Unnamed: 0</th>\n",
       "      <th>Unnamed: 1</th>\n",
       "      <th>Unnamed: 2</th>\n",
       "      <th>Unnamed: 3</th>\n",
       "      <th>Unnamed: 4</th>\n",
       "      <th>Unnamed: 5</th>\n",
       "      <th>15 Holiday Destinations</th>\n",
       "    </tr>\n",
       "  </thead>\n",
       "  <tbody>\n",
       "    <tr>\n",
       "      <th>3</th>\n",
       "      <td>JBR,Dubai</td>\n",
       "      <td>7</td>\n",
       "      <td>_______</td>\n",
       "      <td>20</td>\n",
       "      <td>76</td>\n",
       "      <td>NaN</td>\n",
       "      <td>NaN</td>\n",
       "    </tr>\n",
       "    <tr>\n",
       "      <th>4</th>\n",
       "      <td>Dakar,Senegal</td>\n",
       "      <td>5</td>\n",
       "      <td>_____</td>\n",
       "      <td>10</td>\n",
       "      <td>20</td>\n",
       "      <td>NaN</td>\n",
       "      <td>NaN</td>\n",
       "    </tr>\n",
       "    <tr>\n",
       "      <th>5</th>\n",
       "      <td>Balaclava,Mauritius</td>\n",
       "      <td>10</td>\n",
       "      <td>__________</td>\n",
       "      <td>30</td>\n",
       "      <td>36</td>\n",
       "      <td>NaN</td>\n",
       "      <td>NaN</td>\n",
       "    </tr>\n",
       "    <tr>\n",
       "      <th>6</th>\n",
       "      <td>Kaafu,Maldives</td>\n",
       "      <td>10</td>\n",
       "      <td>__________</td>\n",
       "      <td>20</td>\n",
       "      <td>20</td>\n",
       "      <td>NaN</td>\n",
       "      <td>NaN</td>\n",
       "    </tr>\n",
       "    <tr>\n",
       "      <th>7</th>\n",
       "      <td>Kuala Lumpur,Malaysia</td>\n",
       "      <td>8</td>\n",
       "      <td>________</td>\n",
       "      <td>15</td>\n",
       "      <td>20</td>\n",
       "      <td>NaN</td>\n",
       "      <td>NaN</td>\n",
       "    </tr>\n",
       "    <tr>\n",
       "      <th>8</th>\n",
       "      <td>Istanbul,Turkey</td>\n",
       "      <td>5</td>\n",
       "      <td>_____</td>\n",
       "      <td>22</td>\n",
       "      <td>65</td>\n",
       "      <td>NaN</td>\n",
       "      <td>NaN</td>\n",
       "    </tr>\n",
       "  </tbody>\n",
       "</table>\n",
       "</div>"
      ],
      "text/plain": [
       "              Unnamed: 0 Unnamed: 1  Unnamed: 2 Unnamed: 3 Unnamed: 4  \\\n",
       "3              JBR,Dubai          7     _______         20         76   \n",
       "4          Dakar,Senegal          5       _____         10         20   \n",
       "5    Balaclava,Mauritius         10  __________         30         36   \n",
       "6         Kaafu,Maldives         10  __________         20         20   \n",
       "7  Kuala Lumpur,Malaysia          8    ________         15         20   \n",
       "8        Istanbul,Turkey          5       _____         22         65   \n",
       "\n",
       "   Unnamed: 5  15 Holiday Destinations  \n",
       "3         NaN                      NaN  \n",
       "4         NaN                      NaN  \n",
       "5         NaN                      NaN  \n",
       "6         NaN                      NaN  \n",
       "7         NaN                      NaN  \n",
       "8         NaN                      NaN  "
      ]
     },
     "execution_count": 4,
     "metadata": {},
     "output_type": "execute_result"
    }
   ],
   "source": [
    "##Printing roww 3-8 using Loc\n",
    "##Task2\n",
    "import pandas as pd\n",
    "HDestinations = pd.read_csv(\"HolidayDestinations.csv\")\n",
    "df = pd.DataFrame(HDestinations)\n",
    "df.loc[3:8]"
   ]
  },
  {
   "cell_type": "code",
   "execution_count": 127,
   "metadata": {},
   "outputs": [
    {
     "data": {
      "text/plain": [
       "<bound method Series.apply of 0                      NaN\n",
       "1     All inclusive Hotels\n",
       "2                       25\n",
       "3                       20\n",
       "4                       10\n",
       "5                       30\n",
       "6                       20\n",
       "7                       15\n",
       "8                       22\n",
       "9                       30\n",
       "10                      25\n",
       "11                      15\n",
       "12                      35\n",
       "13                      28\n",
       "14                      14\n",
       "15                      18\n",
       "16                      10\n",
       "Name: Unnamed: 3, dtype: object>"
      ]
     },
     "execution_count": 127,
     "metadata": {},
     "output_type": "execute_result"
    }
   ],
   "source": [
    "##Finding the mean number of All-inclusive Hotels across all destinations.\n",
    "##Task3\n",
    "import pandas as pd\n",
    "import numpy as np\n",
    "\n",
    "HDestinations = pd.read_csv(\"HolidayDestinations.csv\")\n",
    "df = pd.DataFrame(HDestinations)\n",
    "#df1 = pd.DataFrame(HDestinations,\n",
    " #               pd.Index(['Destinations','FeedBack Score Out of 10','Star Rating',\n",
    "  #              'All  inclusive Hotels','Most Visited destination'],name =\"attributes\"))\n",
    "\n",
    "#df1\n",
    "df.iloc[:,3].apply\n",
    "\n",
    "\n"
   ]
  },
  {
   "cell_type": "code",
   "execution_count": 101,
   "metadata": {},
   "outputs": [
    {
     "name": "stdout",
     "output_type": "stream",
     "text": [
      "                 Unnamed: 0                 Unnamed: 1   Unnamed: 2  \\\n",
      "0                       NaN                        NaN          NaN   \n",
      "1              Destinations  FeedBack Score(Out of 10)  Star Rating   \n",
      "2       Antalya City,Turkey                          9    _________   \n",
      "3                 JBR,Dubai                          7      _______   \n",
      "4             Dakar,Senegal                          5        _____   \n",
      "5       Balaclava,Mauritius                         10   __________   \n",
      "6            Kaafu,Maldives                         10   __________   \n",
      "7     Kuala Lumpur,Malaysia                          8     ________   \n",
      "8           Istanbul,Turkey                          5        _____   \n",
      "9              Belek,Turkey                          6       ______   \n",
      "10          Cocoon,Maldives                         10   __________   \n",
      "11              Ibiza,Spain                          8     ________   \n",
      "12            Bodrum,Turkey                          8     ________   \n",
      "13          Downtown, Dubai                         10   __________   \n",
      "14           Mallorca,Spain                          6       ______   \n",
      "15     Canary islands,spain                          8     ________   \n",
      "16  Anse Chastanet,St Lucia                          9    _________   \n",
      "\n",
      "              Unnamed: 3                Unnamed: 4  Unnamed: 5  \\\n",
      "0                    NaN                       NaN         NaN   \n",
      "1   All inclusive Hotels  Most Visited Destination         NaN   \n",
      "2                     25                        80         NaN   \n",
      "3                     20                        76         NaN   \n",
      "4                     10                        20         NaN   \n",
      "5                     30                        36         NaN   \n",
      "6                     20                        20         NaN   \n",
      "7                     15                        20         NaN   \n",
      "8                     22                        65         NaN   \n",
      "9                     30                        75         NaN   \n",
      "10                    25                        38         NaN   \n",
      "11                    15                        90         NaN   \n",
      "12                    35                        80         NaN   \n",
      "13                    28                        75         NaN   \n",
      "14                    14                        95         NaN   \n",
      "15                    18                        60         NaN   \n",
      "16                    10                        25         NaN   \n",
      "\n",
      "    15 Holiday Destinations  \n",
      "0                       NaN  \n",
      "1                       NaN  \n",
      "2                       NaN  \n",
      "3                       NaN  \n",
      "4                       NaN  \n",
      "5                       NaN  \n",
      "6                       NaN  \n",
      "7                       NaN  \n",
      "8                       NaN  \n",
      "9                       NaN  \n",
      "10                      NaN  \n",
      "11                      NaN  \n",
      "12                      NaN  \n",
      "13                      NaN  \n",
      "14                      NaN  \n",
      "15                      NaN  \n",
      "16                      NaN  \n"
     ]
    }
   ],
   "source": [
    "##finding The lowest scoring destination\n",
    "HDestinations = pd.read_csv(\"HolidayDestinations.csv\")\n",
    "\n",
    "print(HDestinations)"
   ]
  },
  {
   "cell_type": "code",
   "execution_count": 60,
   "metadata": {},
   "outputs": [
    {
     "name": "stderr",
     "output_type": "stream",
     "text": [
      "/var/folders/n1/p3xhg6gs7l32rmjz8v54pmx00000gp/T/ipykernel_40901/1226447768.py:1: FutureWarning: Dropping of nuisance columns in DataFrame reductions (with 'numeric_only=None') is deprecated; in a future version this will raise TypeError.  Select only valid columns before calling the reduction.\n",
      "  dest_min = df.min(axis=1)\n"
     ]
    },
    {
     "data": {
      "text/plain": [
       "0    NaN\n",
       "1    NaN\n",
       "2    NaN\n",
       "3    NaN\n",
       "4    NaN\n",
       "5    NaN\n",
       "6    NaN\n",
       "7    NaN\n",
       "8    NaN\n",
       "9    NaN\n",
       "10   NaN\n",
       "11   NaN\n",
       "12   NaN\n",
       "13   NaN\n",
       "14   NaN\n",
       "15   NaN\n",
       "16   NaN\n",
       "dtype: float64"
      ]
     },
     "execution_count": 60,
     "metadata": {},
     "output_type": "execute_result"
    }
   ],
   "source": [
    "dest_min = df.min(axis=1)\n",
    "dest_min"
   ]
  },
  {
   "cell_type": "code",
   "execution_count": 91,
   "metadata": {},
   "outputs": [
    {
     "data": {
      "text/html": [
       "<div>\n",
       "<style scoped>\n",
       "    .dataframe tbody tr th:only-of-type {\n",
       "        vertical-align: middle;\n",
       "    }\n",
       "\n",
       "    .dataframe tbody tr th {\n",
       "        vertical-align: top;\n",
       "    }\n",
       "\n",
       "    .dataframe thead th {\n",
       "        text-align: right;\n",
       "    }\n",
       "</style>\n",
       "<table border=\"1\" class=\"dataframe\">\n",
       "  <thead>\n",
       "    <tr style=\"text-align: right;\">\n",
       "      <th></th>\n",
       "      <th>Unnamed: 0</th>\n",
       "      <th>Unnamed: 1</th>\n",
       "      <th>Unnamed: 2</th>\n",
       "      <th>Unnamed: 3</th>\n",
       "      <th>Unnamed: 4</th>\n",
       "      <th>Unnamed: 5</th>\n",
       "      <th>15 Holiday Destinations</th>\n",
       "    </tr>\n",
       "  </thead>\n",
       "  <tbody>\n",
       "    <tr>\n",
       "      <th>0</th>\n",
       "      <td>NaN</td>\n",
       "      <td>NaN</td>\n",
       "      <td>NaN</td>\n",
       "      <td>NaN</td>\n",
       "      <td>NaN</td>\n",
       "      <td>NaN</td>\n",
       "      <td>NaN</td>\n",
       "    </tr>\n",
       "    <tr>\n",
       "      <th>1</th>\n",
       "      <td>Destinations</td>\n",
       "      <td>FeedBack Score(Out of 10)</td>\n",
       "      <td>Star Rating</td>\n",
       "      <td>All inclusive Hotels</td>\n",
       "      <td>Most Visited Destination</td>\n",
       "      <td>NaN</td>\n",
       "      <td>NaN</td>\n",
       "    </tr>\n",
       "  </tbody>\n",
       "</table>\n",
       "</div>"
      ],
      "text/plain": [
       "     Unnamed: 0                 Unnamed: 1   Unnamed: 2            Unnamed: 3  \\\n",
       "0           NaN                        NaN          NaN                   NaN   \n",
       "1  Destinations  FeedBack Score(Out of 10)  Star Rating  All inclusive Hotels   \n",
       "\n",
       "                 Unnamed: 4  Unnamed: 5  15 Holiday Destinations  \n",
       "0                       NaN         NaN                      NaN  \n",
       "1  Most Visited Destination         NaN                      NaN  "
      ]
     },
     "execution_count": 91,
     "metadata": {},
     "output_type": "execute_result"
    }
   ],
   "source": [
    "dest_min =df.iloc[:2]\n",
    "dest_min"
   ]
  },
  {
   "cell_type": "code",
   "execution_count": 96,
   "metadata": {},
   "outputs": [
    {
     "name": "stderr",
     "output_type": "stream",
     "text": [
      "/var/folders/n1/p3xhg6gs7l32rmjz8v54pmx00000gp/T/ipykernel_40901/1695391096.py:1: FutureWarning: Dropping of nuisance columns in DataFrame reductions (with 'numeric_only=None') is deprecated; in a future version this will raise TypeError.  Select only valid columns before calling the reduction.\n",
      "  col_max = df.max(axis=1)\n"
     ]
    },
    {
     "data": {
      "text/plain": [
       "0    NaN\n",
       "1    NaN\n",
       "2    NaN\n",
       "3    NaN\n",
       "4    NaN\n",
       "5    NaN\n",
       "6    NaN\n",
       "7    NaN\n",
       "8    NaN\n",
       "9    NaN\n",
       "10   NaN\n",
       "11   NaN\n",
       "12   NaN\n",
       "13   NaN\n",
       "14   NaN\n",
       "15   NaN\n",
       "16   NaN\n",
       "dtype: float64"
      ]
     },
     "execution_count": 96,
     "metadata": {},
     "output_type": "execute_result"
    }
   ],
   "source": [
    "col_max = df.max(axis=1)\n",
    "col_max\n",
    "\n"
   ]
  },
  {
   "cell_type": "code",
   "execution_count": 159,
   "metadata": {},
   "outputs": [
    {
     "name": "stdout",
     "output_type": "stream",
     "text": [
      "                 Unnamed: 0 Unnamed: 1  Unnamed: 2 Unnamed: 3 Unnamed: 4  \\\n",
      "12            Bodrum,Turkey          8    ________         35         80   \n",
      "13          Downtown, Dubai         10  __________         28         75   \n",
      "14           Mallorca,Spain          6      ______         14         95   \n",
      "15     Canary islands,spain          8    ________         18         60   \n",
      "16  Anse Chastanet,St Lucia          9   _________         10         25   \n",
      "\n",
      "    Unnamed: 5  15 Holiday Destinations  \n",
      "12         NaN                      NaN  \n",
      "13         NaN                      NaN  \n",
      "14         NaN                      NaN  \n",
      "15         NaN                      NaN  \n",
      "16         NaN                      NaN  \n"
     ]
    }
   ],
   "source": [
    "import pandas as pd\n",
    "\n",
    "HDestinations = pd.read_csv(\"HolidayDestinations.csv\")\n",
    "print(HDestinations.tail())"
   ]
  },
  {
   "cell_type": "code",
   "execution_count": 131,
   "metadata": {},
   "outputs": [
    {
     "name": "stdout",
     "output_type": "stream",
     "text": [
      "            Unnamed: 0                 Unnamed: 1   Unnamed: 2  \\\n",
      "0                  NaN                        NaN          NaN   \n",
      "1         Destinations  FeedBack Score(Out of 10)  Star Rating   \n",
      "2  Antalya City,Turkey                          9    _________   \n",
      "3            JBR,Dubai                          7      _______   \n",
      "4        Dakar,Senegal                          5        _____   \n",
      "\n",
      "             Unnamed: 3                Unnamed: 4  Unnamed: 5  \\\n",
      "0                   NaN                       NaN         NaN   \n",
      "1  All inclusive Hotels  Most Visited Destination         NaN   \n",
      "2                    25                        80         NaN   \n",
      "3                    20                        76         NaN   \n",
      "4                    10                        20         NaN   \n",
      "\n",
      "   15 Holiday Destinations  \n",
      "0                      NaN  \n",
      "1                      NaN  \n",
      "2                      NaN  \n",
      "3                      NaN  \n",
      "4                      NaN  \n"
     ]
    }
   ],
   "source": [
    "import pandas as pd\n",
    "\n",
    "\n",
    "HDestinations = pd.read_csv(\"HolidayDestinations.csv\")\n",
    "##df = pd.DataFrame(HDestinations)\n",
    "##df.iloc[:,3].mean()\n",
    "print(HDestinations.head())\n"
   ]
  },
  {
   "cell_type": "code",
   "execution_count": 151,
   "metadata": {},
   "outputs": [
    {
     "data": {
      "text/plain": [
       "<bound method Series.apply of 0                          NaN\n",
       "1     Most Visited Destination\n",
       "2                           80\n",
       "3                           76\n",
       "4                           20\n",
       "5                           36\n",
       "6                           20\n",
       "7                           20\n",
       "8                           65\n",
       "9                           75\n",
       "10                          38\n",
       "11                          90\n",
       "12                          80\n",
       "13                          75\n",
       "14                          95\n",
       "15                          60\n",
       "16                          25\n",
       "Name: Unnamed: 4, dtype: object>"
      ]
     },
     "execution_count": 151,
     "metadata": {},
     "output_type": "execute_result"
    }
   ],
   "source": [
    "import pandas as pd\n",
    "\n",
    "\n",
    "HDestinations = pd.read_csv(\"HolidayDestinations.csv\")\n",
    "df = pd.DataFrame(HDestinations)\n",
    "df.iloc[:,4].apply\n",
    "\n"
   ]
  },
  {
   "cell_type": "code",
   "execution_count": 154,
   "metadata": {},
   "outputs": [
    {
     "name": "stdout",
     "output_type": "stream",
     "text": [
      "0                           NaN\n",
      "1     FeedBack Score(Out of 10)\n",
      "2                             9\n",
      "3                             7\n",
      "4                             5\n",
      "5                            10\n",
      "6                            10\n",
      "7                             8\n",
      "8                             5\n",
      "9                             6\n",
      "10                           10\n",
      "11                            8\n",
      "12                            8\n",
      "13                           10\n",
      "14                            6\n",
      "15                            8\n",
      "16                            9\n",
      "Name: Unnamed: 1, dtype: object\n"
     ]
    }
   ],
   "source": [
    "myfilter = df.iloc[:,1]\n",
    "print(myfilter)"
   ]
  },
  {
   "cell_type": "code",
   "execution_count": null,
   "metadata": {},
   "outputs": [],
   "source": []
  },
  {
   "cell_type": "code",
   "execution_count": null,
   "metadata": {},
   "outputs": [],
   "source": []
  }
 ],
 "metadata": {
  "interpreter": {
   "hash": "aee8b7b246df8f9039afb4144a1f6fd8d2ca17a180786b69acc140d282b71a49"
  },
  "kernelspec": {
   "display_name": "Python 3.10.0 64-bit",
   "name": "python3"
  },
  "language_info": {
   "codemirror_mode": {
    "name": "ipython",
    "version": 3
   },
   "file_extension": ".py",
   "mimetype": "text/x-python",
   "name": "python",
   "nbconvert_exporter": "python",
   "pygments_lexer": "ipython3",
   "version": "3.10.0"
  },
  "orig_nbformat": 4
 },
 "nbformat": 4,
 "nbformat_minor": 2
}
